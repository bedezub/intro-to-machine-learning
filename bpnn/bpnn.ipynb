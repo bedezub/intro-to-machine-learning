{
 "cells": [
  {
   "cell_type": "markdown",
   "metadata": {},
   "source": [
    "# Multi Layer Perceptron\n",
    "\n",
    "Author: bedezub"
   ]
  },
  {
   "cell_type": "code",
   "execution_count": 29,
   "metadata": {},
   "outputs": [],
   "source": [
    "import numpy as np\n",
    "from math import exp\n",
    "import bpnn"
   ]
  },
  {
   "cell_type": "markdown",
   "metadata": {},
   "source": [
    "### Step 1: Initialization\n",
    "\n",
    "Set all the weights and threshold levels of the network"
   ]
  },
  {
   "cell_type": "markdown",
   "metadata": {},
   "source": [
    "Modified version of input, python 0-indexing so we start with Neuron 0 hehe\n",
    "\n",
    "Neuron 0 and Neuron 1 and so on..."
   ]
  },
  {
   "cell_type": "code",
   "execution_count": 2,
   "metadata": {},
   "outputs": [],
   "source": [
    "learning_rate = 0.1"
   ]
  },
  {
   "cell_type": "code",
   "execution_count": 3,
   "metadata": {},
   "outputs": [],
   "source": [
    "x_inputs = np.array([[1,1]]) "
   ]
  },
  {
   "cell_type": "markdown",
   "metadata": {},
   "source": [
    "Weight at hidden layer\n",
    "\n",
    "Row      = number of neuron at hidden layer. Contoh, index 0 is first row and index 1 is second row  \n",
    "Column   = value of neutron at input layer aka value yang masuk dalam each neuron"
   ]
  },
  {
   "cell_type": "code",
   "execution_count": 4,
   "metadata": {},
   "outputs": [],
   "source": [
    "weights_hidden = np.array([\n",
    "    [0.5, 0.4],\n",
    "    [0.9, 1.0] \n",
    "])"
   ]
  },
  {
   "cell_type": "markdown",
   "metadata": {},
   "source": [
    "Weight at output layer\n",
    "\n",
    "Bila pecah macam ni lagi senang nak detect and adjust. Still maintain at `weight_output` sebab just in case ada dua node at output"
   ]
  },
  {
   "cell_type": "code",
   "execution_count": 5,
   "metadata": {},
   "outputs": [],
   "source": [
    "weights_output = np.array([\n",
    "    [-1.2, 1.1],\n",
    "])"
   ]
  },
  {
   "cell_type": "markdown",
   "metadata": {},
   "source": [
    "Threshold values\n",
    "\n",
    "Sepatutnya, threshold * biased kan? Why dia tak ambil biased :( - Dia guna dekat step 3 hahahahah\n",
    "\n",
    "Each column represent each neuron at the hidden layer\n",
    "\n",
    "Macam mana kalau tak ada threshold? kah kah"
   ]
  },
  {
   "cell_type": "code",
   "execution_count": 6,
   "metadata": {},
   "outputs": [],
   "source": [
    "thresholds_hidden = np.array([0.8, -0.1])"
   ]
  },
  {
   "cell_type": "code",
   "execution_count": 7,
   "metadata": {},
   "outputs": [],
   "source": [
    "biaseds_hidden = np.array([-1, -1])"
   ]
  },
  {
   "cell_type": "code",
   "execution_count": 8,
   "metadata": {},
   "outputs": [],
   "source": [
    "thresholds_output = np.array([0.3])"
   ]
  },
  {
   "cell_type": "code",
   "execution_count": 9,
   "metadata": {},
   "outputs": [],
   "source": [
    "biaseds_output = np.array([-1])"
   ]
  },
  {
   "cell_type": "markdown",
   "metadata": {},
   "source": [
    "Assuming dekat output layer boleh jadi more than one output"
   ]
  },
  {
   "cell_type": "code",
   "execution_count": 10,
   "metadata": {},
   "outputs": [],
   "source": [
    "y_desired = np.array([0]) "
   ]
  },
  {
   "cell_type": "markdown",
   "metadata": {},
   "source": [
    "## Step 2: Activation\n",
    "\n",
    "Activate neural network by applying inputs and desired outputs"
   ]
  },
  {
   "cell_type": "code",
   "execution_count": 11,
   "metadata": {},
   "outputs": [],
   "source": [
    "def activation_function_hidden(x_inputs, weights, thresholds):\n",
    "    # TODO fix docstring\n",
    "    \"\"\"\n",
    "        Calculate actual output at hidden neurons.\n",
    "        In this case, neuron 3 and neuron 4\n",
    "\n",
    "        The actual output at hidden neuron will be input for output layer\n",
    "        This function return Numpy array if possible. \n",
    "\n",
    "        Formula tu calculate actual output, y\n",
    "        y = sigmoid(sum(xi * wij) - thres)\n",
    "\n",
    "        where:\n",
    "            xi  = input variables\n",
    "            wij = weight values; \n",
    "                i = neuron at input layer, \n",
    "                j = neuron at hidden layer \n",
    "    \"\"\"\n",
    "    actual_output = []\n",
    "    x_inputs_hidden = []\n",
    "\n",
    "    # Multiply all x_input with \n",
    "    for x in range(len(weights)):\n",
    "        for x_input in x_inputs:\n",
    "            actual_output_input_x_hidden = x_input * weights[x]\n",
    "            actual_output.append(actual_output_input_x_hidden)\n",
    "\n",
    "    actual_outputs_sum = np.sum(\n",
    "        np.array(actual_output),\n",
    "        axis=1\n",
    "    )\n",
    "\n",
    "    # Multiply the value \n",
    "    for x, actual_output_sum in enumerate(actual_outputs_sum):\n",
    "        # print(actual_output_sum)\n",
    "        actual_outputs_sum[x] = actual_output_sum - (thresholds[x])\n",
    "    \n",
    "    # Sigmoid activation\n",
    "    for actual_output_sum in actual_outputs_sum:\n",
    "        x_inputs_hidden.append(round(1 / (1  + exp(-1 * actual_output_sum)), 4))\n",
    "    \n",
    "    return np.array([x_inputs_hidden])"
   ]
  },
  {
   "cell_type": "code",
   "execution_count": 12,
   "metadata": {},
   "outputs": [],
   "source": [
    "x_inputs_output = activation_function_hidden(x_inputs=x_inputs, weights=weights_hidden, thresholds=thresholds_hidden)"
   ]
  },
  {
   "cell_type": "code",
   "execution_count": 30,
   "metadata": {},
   "outputs": [
    {
     "data": {
      "text/plain": [
       "array([[0.525 , 0.8808]])"
      ]
     },
     "execution_count": 30,
     "metadata": {},
     "output_type": "execute_result"
    }
   ],
   "source": [
    "x_inputs_output"
   ]
  },
  {
   "cell_type": "code",
   "execution_count": 13,
   "metadata": {},
   "outputs": [],
   "source": [
    "y_actual = activation_function_hidden(x_inputs=x_inputs_output, weights=weights_output, thresholds=thresholds_output)"
   ]
  },
  {
   "cell_type": "markdown",
   "metadata": {},
   "source": [
    "Error in numpy array lol"
   ]
  },
  {
   "cell_type": "code",
   "execution_count": 27,
   "metadata": {},
   "outputs": [
    {
     "data": {
      "text/plain": [
       "array([[0.5097]])"
      ]
     },
     "execution_count": 27,
     "metadata": {},
     "output_type": "execute_result"
    }
   ],
   "source": [
    "y_actual"
   ]
  },
  {
   "cell_type": "code",
   "execution_count": 14,
   "metadata": {},
   "outputs": [],
   "source": [
    "errors = y_desired - y_actual"
   ]
  },
  {
   "cell_type": "code",
   "execution_count": 15,
   "metadata": {},
   "outputs": [
    {
     "name": "stdout",
     "output_type": "stream",
     "text": [
      "[[-0.5097]]\n"
     ]
    }
   ],
   "source": [
    "print(errors)"
   ]
  },
  {
   "cell_type": "markdown",
   "metadata": {},
   "source": [
    "## Step 3: Weight Training"
   ]
  },
  {
   "cell_type": "markdown",
   "metadata": {},
   "source": [
    "Calculate error gradient at output layer"
   ]
  },
  {
   "cell_type": "markdown",
   "metadata": {},
   "source": [
    "Step 3.1: Weight and Error (Delta Error and Error Gradient) Calculation"
   ]
  },
  {
   "cell_type": "code",
   "execution_count": 16,
   "metadata": {},
   "outputs": [],
   "source": [
    "def calc_err_gradient(y_outputs, errors, weights=[]):\n",
    "    err_gradient = np.array([])\n",
    "    if not len(weights) == 0:\n",
    "        for weight in weights:\n",
    "            for error in errors:\n",
    "                for y_output in (y_outputs):\n",
    "                    for x in range(len(y_output)):\n",
    "                        err_gradient = np.append(err_gradient, values=round(y_output[x] * (1 - y_output[x]) * error * weight[x], 4))\n",
    "    else:\n",
    "        for error in errors:\n",
    "            for y_output in y_outputs:\n",
    "                for x in range(len(y_output)):\n",
    "                    err_gradient = np.append(err_gradient, values=round(y_output[x] * (1 - y_output[x]) * error[x], 4)) \n",
    "    \n",
    "    return err_gradient"
   ]
  },
  {
   "cell_type": "code",
   "execution_count": 17,
   "metadata": {},
   "outputs": [],
   "source": [
    "err_gradient_output = calc_err_gradient(y_outputs=y_actual, errors=errors)"
   ]
  },
  {
   "cell_type": "code",
   "execution_count": 28,
   "metadata": {},
   "outputs": [
    {
     "data": {
      "text/plain": [
       "array([-0.1274])"
      ]
     },
     "execution_count": 28,
     "metadata": {},
     "output_type": "execute_result"
    }
   ],
   "source": [
    "err_gradient_output"
   ]
  },
  {
   "cell_type": "code",
   "execution_count": 18,
   "metadata": {},
   "outputs": [],
   "source": [
    "err_gradient_hidden = calc_err_gradient(y_outputs=x_inputs_output, errors=err_gradient_output, weights=weights_output)"
   ]
  },
  {
   "cell_type": "code",
   "execution_count": 29,
   "metadata": {},
   "outputs": [
    {
     "data": {
      "text/plain": [
       "array([ 0.0381, -0.0147])"
      ]
     },
     "execution_count": 29,
     "metadata": {},
     "output_type": "execute_result"
    }
   ],
   "source": [
    "err_gradient_hidden"
   ]
  },
  {
   "cell_type": "code",
   "execution_count": 19,
   "metadata": {},
   "outputs": [
    {
     "name": "stdout",
     "output_type": "stream",
     "text": [
      "[ 0.0381 -0.0147]\n"
     ]
    }
   ],
   "source": [
    "print(err_gradient_hidden)"
   ]
  },
  {
   "cell_type": "code",
   "execution_count": 20,
   "metadata": {},
   "outputs": [],
   "source": [
    "def calc_delta_weight(x_inputs, err_gradients, biaseds):\n",
    "    delta_weight = np.array([])\n",
    "    delta_threshold = np.array([])\n",
    "    temp = []\n",
    "    neurons = []\n",
    "\n",
    "    for x in range(len(err_gradients)):\n",
    "        temp.clear()\n",
    "        for x_input in x_inputs:  \n",
    "            for y in range(len(x_input)):\n",
    "                temp.append(round(learning_rate * x_input[y] * err_gradients[x], 4))\n",
    "            neurons.append(temp.copy())\n",
    "    \n",
    "    delta_weight = np.array(neurons)\n",
    "    print(delta_weight)\n",
    "\n",
    "    for x, biased in enumerate(biaseds):\n",
    "            delta_threshold = np.append(delta_threshold, round(learning_rate * biased * err_gradients[x], 4))\n",
    "        \n",
    "    return {\n",
    "        'delta_weight': delta_weight,\n",
    "        'delta_threshold': delta_threshold\n",
    "    }"
   ]
  },
  {
   "cell_type": "code",
   "execution_count": 21,
   "metadata": {},
   "outputs": [
    {
     "name": "stdout",
     "output_type": "stream",
     "text": [
      "[[-0.0067 -0.0112]]\n"
     ]
    }
   ],
   "source": [
    "delta_output = calc_delta_weight(x_inputs=x_inputs_output, err_gradients=err_gradient_output, biaseds=biaseds_output)"
   ]
  },
  {
   "cell_type": "code",
   "execution_count": 22,
   "metadata": {},
   "outputs": [
    {
     "name": "stdout",
     "output_type": "stream",
     "text": [
      "[[ 0.0038  0.0038]\n",
      " [-0.0015 -0.0015]]\n"
     ]
    }
   ],
   "source": [
    "delta_hidden = calc_delta_weight(x_inputs=x_inputs, err_gradients=err_gradient_hidden, biaseds=biaseds_hidden)"
   ]
  },
  {
   "cell_type": "markdown",
   "metadata": {},
   "source": [
    "Step 3.2: Weight updation"
   ]
  },
  {
   "cell_type": "code",
   "execution_count": 23,
   "metadata": {},
   "outputs": [],
   "source": [
    "weights_hidden = weights_hidden + delta_hidden['delta_weight']"
   ]
  },
  {
   "cell_type": "code",
   "execution_count": 24,
   "metadata": {},
   "outputs": [],
   "source": [
    "weights_output = weights_output + delta_output['delta_weight']"
   ]
  },
  {
   "cell_type": "code",
   "execution_count": 25,
   "metadata": {},
   "outputs": [],
   "source": [
    "thresholds_hidden = thresholds_hidden + delta_hidden['delta_threshold']"
   ]
  },
  {
   "cell_type": "code",
   "execution_count": 26,
   "metadata": {},
   "outputs": [],
   "source": [
    "thresholds_output = thresholds_output + delta_output['delta_threshold']"
   ]
  },
  {
   "cell_type": "markdown",
   "metadata": {},
   "source": [
    "## Step 4: Iteration\n",
    "\n",
    "Iterate until sum of square error is less than 0.001"
   ]
  },
  {
   "cell_type": "code",
   "execution_count": 30,
   "metadata": {},
   "outputs": [],
   "source": [
    "x_one   = bpnn.BPNN(np.array([[0,0]]), np.array([0]))\n",
    "x_two   = bpnn.BPNN(np.array([[1,0]]), np.array([1]))\n",
    "x_three = bpnn.BPNN(np.array([[1,1]]), np.array([1]))\n",
    "x_four  = bpnn.BPNN(np.array([[1,1]]), np.array([0]))"
   ]
  },
  {
   "cell_type": "code",
   "execution_count": null,
   "metadata": {},
   "outputs": [],
   "source": [
    "bpnn.BPNN.w"
   ]
  },
  {
   "cell_type": "code",
   "execution_count": null,
   "metadata": {},
   "outputs": [],
   "source": [
    "bpnn.BPNN."
   ]
  }
 ],
 "metadata": {
  "interpreter": {
   "hash": "f061cc7ac73d0c3a0547232dedc70a315866e232463552a237d6390eda146b86"
  },
  "kernelspec": {
   "display_name": "Python 3.8.12 64-bit ('experimental': conda)",
   "language": "python",
   "name": "python3"
  },
  "language_info": {
   "codemirror_mode": {
    "name": "ipython",
    "version": 3
   },
   "file_extension": ".py",
   "mimetype": "text/x-python",
   "name": "python",
   "nbconvert_exporter": "python",
   "pygments_lexer": "ipython3",
   "version": "3.8.12"
  },
  "orig_nbformat": 4
 },
 "nbformat": 4,
 "nbformat_minor": 2
}
